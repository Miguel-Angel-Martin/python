{
 "cells": [
  {
   "cell_type": "code",
   "execution_count": 5,
   "metadata": {},
   "outputs": [
    {
     "name": "stdout",
     "output_type": "stream",
     "text": [
      "                Title      Directed by  \\\n",
      "0  The Simpsons Movie  David Silverman   \n",
      "\n",
      "                                          Written by Release date (U.S.)  \n",
      "0  James L. Brooks, Matt Groening, Al Jean, Ian M...       July 27, 2007  \n"
     ]
    }
   ],
   "source": [
    "import pandas as pd\n",
    "\n",
    "episodes = pd.read_html('https://en.wikipedia.org/wiki/List_of_The_Simpsons_episodes')\n",
    "#print(episodes)\n",
    "len(episodes)\n",
    "print (episodes[1])"
   ]
  }
 ],
 "metadata": {
  "kernelspec": {
   "display_name": "Python 3.11.0 64-bit ('dev-env')",
   "language": "python",
   "name": "python3"
  },
  "language_info": {
   "codemirror_mode": {
    "name": "ipython",
    "version": 3
   },
   "file_extension": ".py",
   "mimetype": "text/x-python",
   "name": "python",
   "nbconvert_exporter": "python",
   "pygments_lexer": "ipython3",
   "version": "3.11.0"
  },
  "orig_nbformat": 4,
  "vscode": {
   "interpreter": {
    "hash": "f4a9f249ded1628920450e8c942e91b4b0053cd361248695633d3a00afdf8968"
   }
  }
 },
 "nbformat": 4,
 "nbformat_minor": 2
}
